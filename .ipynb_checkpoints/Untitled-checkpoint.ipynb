{
 "cells": [
  {
   "cell_type": "code",
   "execution_count": 1,
   "metadata": {},
   "outputs": [
    {
     "data": {
      "text/html": [
       "<style>.container { width:100% !important; }</style>"
      ],
      "text/plain": [
       "<IPython.core.display.HTML object>"
      ]
     },
     "metadata": {},
     "output_type": "display_data"
    }
   ],
   "source": [
    "from IPython.core.display import display, HTML\n",
    "display(HTML(\"<style>.container { width:100% !important; }</style>\"))"
   ]
  },
  {
   "cell_type": "code",
   "execution_count": 2,
   "metadata": {},
   "outputs": [
    {
     "name": "stdout",
     "output_type": "stream",
     "text": [
      "Num GPUs Available 1\n"
     ]
    }
   ],
   "source": [
    "import tensorflow as tf\n",
    "print(\"Num GPUs Available\", len(tf.config.experimental.list_physical_devices('GPU')))"
   ]
  },
  {
   "cell_type": "code",
   "execution_count": 4,
   "metadata": {},
   "outputs": [],
   "source": [
    "from sklearn.metrics import roc_auc_score, average_precision_score, roc_curve\n",
    "from sklearn.model_selection import train_test_split\n",
    "from sklearn.preprocessing import StandardScaler\n",
    "from sklearn.preprocessing import OneHotEncoder\n",
    "from tensorflow.keras.metrics import TruePositives, FalsePositives, TrueNegatives, FalseNegatives, BinaryAccuracy, Precision, Recall, AUC\n",
    "from tensorflow.keras.models import Model, Sequential\n",
    "from tensorflow.keras.losses import BinaryCrossentropy, SparseCategoricalCrossentropy, CategoricalCrossentropy\n",
    "\n",
    "from tensorflow.keras.layers import Input, Dense, Conv2D, MaxPooling2D, Flatten, Dropout, Activation, SpatialDropout2D, BatchNormalization\n",
    "from tensorflow.keras.optimizers import Adam, SGD\n",
    "from tensorflow.keras.preprocessing.image import ImageDataGenerator\n",
    "import matplotlib.pyplot as plt\n",
    "import numpy as np\n",
    "import os\n",
    "import pandas as pd\n",
    "import seaborn as sns"
   ]
  },
  {
   "cell_type": "code",
   "execution_count": 10,
   "metadata": {},
   "outputs": [],
   "source": [
    "# directory to image folder - change this accordingly\n",
    "DTIF = os.path.join('data', 'img')"
   ]
  },
  {
   "cell_type": "code",
   "execution_count": 4,
   "metadata": {},
   "outputs": [],
   "source": [
    "folder_names = os.listdir(os.path.join('data', 'img'))"
   ]
  },
  {
   "cell_type": "code",
   "execution_count": 20,
   "metadata": {},
   "outputs": [],
   "source": [
    "df = pd.read_table('list_category_img.txt', skiprows=1, delim_whitespace=True)\n",
    "df['image_name'] = df['image_name'].apply(lambda x: os.path.join(DTIF, x.split('/')[1], x.split('/')[2]))\n",
    "df.columns = ['filename', 'class']\n",
    "df['class'] = df['class'].astype(str)"
   ]
  },
  {
   "cell_type": "code",
   "execution_count": 27,
   "metadata": {},
   "outputs": [
    {
     "data": {
      "text/plain": [
       "array([45, 27, 21, 11, 37, 43, 44, 48, 49, 19, 14,  2, 32, 26,  3, 16, 31,\n",
       "       35, 24,  0, 20, 40, 13,  5, 47, 18, 28, 33, 46,  6, 42, 22,  4,  1,\n",
       "       15, 23, 41, 25, 38, 29, 36,  8, 30, 34,  9,  7, 10, 17, 39, 12])"
      ]
     },
     "execution_count": 27,
     "metadata": {},
     "output_type": "execute_result"
    }
   ],
   "source": [
    "np.random.permutation(50)"
   ]
  },
  {
   "cell_type": "code",
   "execution_count": 36,
   "metadata": {},
   "outputs": [
    {
     "name": "stdout",
     "output_type": "stream",
     "text": [
      "72158\n",
      "36887\n",
      "24557\n",
      "19666\n",
      "15429\n",
      "14773\n",
      "13311\n",
      "13123\n",
      "10467\n",
      "10078\n",
      "7495\n",
      "7408\n",
      "7076\n",
      "6153\n",
      "5013\n",
      "4416\n",
      "4048\n",
      "3048\n",
      "2294\n",
      "2120\n",
      "1669\n",
      "1106\n",
      "791\n",
      "748\n",
      "716\n",
      "676\n",
      "594\n",
      "527\n",
      "486\n",
      "386\n",
      "330\n",
      "324\n",
      "309\n",
      "160\n",
      "150\n",
      "146\n",
      "126\n",
      "97\n",
      "77\n",
      "70\n",
      "54\n",
      "49\n",
      "45\n",
      "32\n",
      "17\n",
      "17\n"
     ]
    }
   ],
   "source": [
    "def train_val_test_split(df: pd.DataFrame, label: str='class', val_size: float=0.2, test_size: float=0.2, stratify: bool=True) -> pd.DataFrame:\n",
    "    if val_size + test_size >= 1:\n",
    "        print(\"invalid parameters\")\n",
    "    \n",
    "    train_size = 1 - val_size - test_size\n",
    "#     print()\n",
    "    if stratify:\n",
    "        for label, count in enumerate(df[label].value_counts()):\n",
    "            indices = np.random.permutation(count)\n",
    "            train_idx = indices[:int(train_size*count)]\n",
    "            val_idx = indices[int(train_size*count)+1: int((train_size+val_size)*count)]\n",
    "            test_idx = indices[int((train_size+val_size)*count)+1:]\n",
    "            df.loc[train_idx, 'split'] = 'train'\n",
    "            df.loc[val_idx, 'split'] = 'val'\n",
    "            df.loc[test_idx, 'split'] = 'test'\n",
    "            \n",
    "    if not stratify:\n",
    "        pass\n",
    "    \n",
    "train_val_test_split(df)"
   ]
  },
  {
   "cell_type": "code",
   "execution_count": 7,
   "metadata": {},
   "outputs": [],
   "source": [
    "def train_val_test_split(df: pd.DataFrame, val_size: float=0.2, test_size: float=0.2, stratify: bool=True) -> pd.DataFrame:\n",
    "    if val_size + test_size >= 1:\n",
    "        print(\"dont be crazy\")\n",
    "    "
   ]
  },
  {
   "cell_type": "code",
   "execution_count": 8,
   "metadata": {},
   "outputs": [],
   "source": [
    "train_datagen = ImageDataGenerator()\n",
    "val_datagen = ImageDataGenerator()\n",
    "test_datagen = ImageDataGenerator()"
   ]
  },
  {
   "cell_type": "code",
   "execution_count": 13,
   "metadata": {},
   "outputs": [
    {
     "name": "stdout",
     "output_type": "stream",
     "text": [
      "Found 24362 validated image filenames belonging to 26 classes.\n"
     ]
    }
   ],
   "source": [
    "train_gen = train_datagen.flow_from_dataframe(\n",
    "    cat_df,\n",
    "    weight_col=None, target_size=(301, 301), color_mode='rgb',\n",
    "    classes=None, \n",
    "    batch_size=8,\n",
    "    class_mode='categorical', \n",
    "    shuffle=True\n",
    ")"
   ]
  },
  {
   "cell_type": "code",
   "execution_count": 36,
   "metadata": {},
   "outputs": [],
   "source": [
    "i, l = train_gen.__getitem__(1)"
   ]
  },
  {
   "cell_type": "code",
   "execution_count": 54,
   "metadata": {},
   "outputs": [
    {
     "data": {
      "text/plain": [
       "<matplotlib.image.AxesImage at 0x25ba5a126c8>"
      ]
     },
     "execution_count": 54,
     "metadata": {},
     "output_type": "execute_result"
    },
    {
     "data": {
      "image/png": "[encoded data removed]",
      "text/plain": [
       "<Figure size 432x288 with 1 Axes>"
      ]
     },
     "metadata": {
      "needs_background": "light"
     },
     "output_type": "display_data"
    }
   ],
   "source": [
    "plt.imshow(i[11].astype(int))"
   ]
  },
  {
   "cell_type": "code",
   "execution_count": 10,
   "metadata": {
    "scrolled": true
   },
   "outputs": [
    {
     "data": {
      "text/plain": [
       "46"
      ]
     },
     "execution_count": 10,
     "metadata": {},
     "output_type": "execute_result"
    }
   ],
   "source": [
    "len(cat_df['class'].unique())"
   ]
  },
  {
   "cell_type": "code",
   "execution_count": 70,
   "metadata": {
    "collapsed": true
   },
   "outputs": [
    {
     "data": {
      "text/html": [
       "<div>\n",
       "<style scoped>\n",
       "    .dataframe tbody tr th:only-of-type {\n",
       "        vertical-align: middle;\n",
       "    }\n",
       "\n",
       "    .dataframe tbody tr th {\n",
       "        vertical-align: top;\n",
       "    }\n",
       "\n",
       "    .dataframe thead th {\n",
       "        text-align: right;\n",
       "    }\n",
       "</style>\n",
       "<table border=\"1\" class=\"dataframe\">\n",
       "  <thead>\n",
       "    <tr style=\"text-align: right;\">\n",
       "      <th></th>\n",
       "      <th>y_col</th>\n",
       "      <th>x_col</th>\n",
       "    </tr>\n",
       "  </thead>\n",
       "  <tbody>\n",
       "    <tr>\n",
       "      <th>0</th>\n",
       "      <td>3</td>\n",
       "      <td>data\\img\\Sheer_Pleated-Front_Blouse</td>\n",
       "    </tr>\n",
       "    <tr>\n",
       "      <th>1</th>\n",
       "      <td>3</td>\n",
       "      <td>data\\img\\Sheer_Woven_Blouse</td>\n",
       "    </tr>\n",
       "    <tr>\n",
       "      <th>2</th>\n",
       "      <td>3</td>\n",
       "      <td>data\\img\\Shirred_Floral-Embroidered_Blouse</td>\n",
       "    </tr>\n",
       "    <tr>\n",
       "      <th>3</th>\n",
       "      <td>3</td>\n",
       "      <td>data\\img\\Shirred_Lace-Paneled_Blouse</td>\n",
       "    </tr>\n",
       "    <tr>\n",
       "      <th>4</th>\n",
       "      <td>3</td>\n",
       "      <td>data\\img\\Side-Slit_Collared_Blouse</td>\n",
       "    </tr>\n",
       "    <tr>\n",
       "      <th>...</th>\n",
       "      <td>...</td>\n",
       "      <td>...</td>\n",
       "    </tr>\n",
       "    <tr>\n",
       "      <th>5616</th>\n",
       "      <td>41</td>\n",
       "      <td>data\\img\\Paisley_Cami_Trapeze_Dress</td>\n",
       "    </tr>\n",
       "    <tr>\n",
       "      <th>5617</th>\n",
       "      <td>41</td>\n",
       "      <td>data\\img\\Paisley_Fit_&amp;_Flare_Dress</td>\n",
       "    </tr>\n",
       "    <tr>\n",
       "      <th>5618</th>\n",
       "      <td>41</td>\n",
       "      <td>data\\img\\Paisley_Floral_A-Line_Dress</td>\n",
       "    </tr>\n",
       "    <tr>\n",
       "      <th>5619</th>\n",
       "      <td>41</td>\n",
       "      <td>data\\img\\Paisley_High-Slit_Maxi_Dress</td>\n",
       "    </tr>\n",
       "    <tr>\n",
       "      <th>5620</th>\n",
       "      <td>41</td>\n",
       "      <td>data\\img\\Paisley_Maxi_Cami_Dress</td>\n",
       "    </tr>\n",
       "  </tbody>\n",
       "</table>\n",
       "<p>5621 rows × 2 columns</p>\n",
       "</div>"
      ],
      "text/plain": [
       "      y_col                                       x_col\n",
       "0         3         data\\img\\Sheer_Pleated-Front_Blouse\n",
       "1         3                 data\\img\\Sheer_Woven_Blouse\n",
       "2         3  data\\img\\Shirred_Floral-Embroidered_Blouse\n",
       "3         3        data\\img\\Shirred_Lace-Paneled_Blouse\n",
       "4         3          data\\img\\Side-Slit_Collared_Blouse\n",
       "...     ...                                         ...\n",
       "5616     41         data\\img\\Paisley_Cami_Trapeze_Dress\n",
       "5617     41          data\\img\\Paisley_Fit_&_Flare_Dress\n",
       "5618     41        data\\img\\Paisley_Floral_A-Line_Dress\n",
       "5619     41       data\\img\\Paisley_High-Slit_Maxi_Dress\n",
       "5620     41            data\\img\\Paisley_Maxi_Cami_Dress\n",
       "\n",
       "[5621 rows x 2 columns]"
      ]
     },
     "execution_count": 70,
     "metadata": {},
     "output_type": "execute_result"
    }
   ],
   "source": [
    "cat_df"
   ]
  },
  {
   "cell_type": "code",
   "execution_count": 10,
   "metadata": {},
   "outputs": [],
   "source": [
    "def base_model() -> Sequential:\n",
    "    model = Sequential()\n",
    "    model.add(Input((301, 301, 3)))    \n",
    "    # Conv2D Layer\n",
    "    model.add(Conv2D(filters=64, kernel_size=5, padding='same'))\n",
    "    model.add(Activation('relu'))    \n",
    "    model.add(SpatialDropout2D(0.5))\n",
    "\n",
    "    # BatchNormalization\n",
    "    model.add(BatchNormalization())\n",
    "    model.add(Activation('relu'))    \n",
    "\n",
    "    # Max Pooling\n",
    "    model.add(MaxPooling2D(pool_size=(5, 5), strides = 5))\n",
    "\n",
    "    model.add(Flatten())\n",
    "\n",
    "    model.add(Dense(32, activation='relu'))\n",
    "    model.add(Dropout(0.4))\n",
    "\n",
    "    model.add(Dense(26, activation='softmax'))\n",
    "    \n",
    "    return model  "
   ]
  },
  {
   "cell_type": "code",
   "execution_count": 11,
   "metadata": {},
   "outputs": [
    {
     "name": "stdout",
     "output_type": "stream",
     "text": [
      "Model: \"sequential\"\n",
      "_________________________________________________________________\n",
      "Layer (type)                 Output Shape              Param #   \n",
      "=================================================================\n",
      "conv2d (Conv2D)              (None, 301, 301, 64)      4864      \n",
      "_________________________________________________________________\n",
      "activation (Activation)      (None, 301, 301, 64)      0         \n",
      "_________________________________________________________________\n",
      "spatial_dropout2d (SpatialDr (None, 301, 301, 64)      0         \n",
      "_________________________________________________________________\n",
      "batch_normalization (BatchNo (None, 301, 301, 64)      256       \n",
      "_________________________________________________________________\n",
      "activation_1 (Activation)    (None, 301, 301, 64)      0         \n",
      "_________________________________________________________________\n",
      "max_pooling2d (MaxPooling2D) (None, 60, 60, 64)        0         \n",
      "_________________________________________________________________\n",
      "flatten (Flatten)            (None, 230400)            0         \n",
      "_________________________________________________________________\n",
      "dense (Dense)                (None, 32)                7372832   \n",
      "_________________________________________________________________\n",
      "dropout (Dropout)            (None, 32)                0         \n",
      "_________________________________________________________________\n",
      "dense_1 (Dense)              (None, 26)                858       \n",
      "=================================================================\n",
      "Total params: 7,378,810\n",
      "Trainable params: 7,378,682\n",
      "Non-trainable params: 128\n",
      "_________________________________________________________________\n"
     ]
    }
   ],
   "source": [
    "METRICS = [\n",
    "      BinaryAccuracy(name='accuracy'),\n",
    "      Precision(name='precision'),\n",
    "      Recall(name='recall'),\n",
    "      AUC(name='auc'),\n",
    "      AUC(name='prc', curve='PR')\n",
    "]\n",
    "\n",
    "model = base_model()\n",
    "model.compile(optimizer='adam', loss=CategoricalCrossentropy(), metrics=METRICS)\n",
    "model.summary()"
   ]
  },
  {
   "cell_type": "code",
   "execution_count": 14,
   "metadata": {},
   "outputs": [
    {
     "name": "stdout",
     "output_type": "stream",
     "text": [
      "Epoch 1/10\n",
      "3046/3046 [==============================] - 376s 123ms/step - loss: 2.7648 - accuracy: 0.9615\n",
      "Epoch 2/10\n",
      "3046/3046 [==============================] - 284s 93ms/step - loss: 2.5133 - accuracy: 0.9615s - loss: 2.5\n",
      "Epoch 3/10\n",
      "3046/3046 [==============================] - 295s 97ms/step - loss: 2.5125 - accuracy: 0.9615\n",
      "Epoch 4/10\n",
      "3046/3046 [==============================] - 295s 97ms/step - loss: 2.5007 - accuracy: 0.9615\n",
      "Epoch 5/10\n",
      "3046/3046 [==============================] - 295s 97ms/step - loss: 2.5141 - accuracy: 0.9615\n",
      "Epoch 6/10\n",
      "3046/3046 [==============================] - 295s 97ms/step - loss: 2.5086 - accuracy: 0.9615\n",
      "Epoch 7/10\n",
      "3046/3046 [==============================] - 295s 97ms/step - loss: 2.5013 - accuracy: 0.9615\n",
      "Epoch 8/10\n",
      "3046/3046 [==============================] - 295s 97ms/step - loss: 2.4999 - accuracy: 0.9615\n",
      "Epoch 9/10\n",
      "3046/3046 [==============================] - 295s 97ms/step - loss: 2.5000 - accuracy: 0.9615\n",
      "Epoch 10/10\n",
      "3046/3046 [==============================] - 293s 96ms/step - loss: 2.5000 - accuracy: 0.9615\n"
     ]
    }
   ],
   "source": [
    "epochs=10\n",
    "history = model.fit(\n",
    "    train_gen,\n",
    "    epochs=epochs\n",
    ")"
   ]
  },
  {
   "cell_type": "code",
   "execution_count": 29,
   "metadata": {},
   "outputs": [],
   "source": [
    "from tensorflow.keras.callbacks import History"
   ]
  },
  {
   "cell_type": "code",
   "execution_count": 28,
   "metadata": {},
   "outputs": [
    {
     "data": {
      "text/plain": [
       "keras.callbacks.History"
      ]
     },
     "execution_count": 28,
     "metadata": {},
     "output_type": "execute_result"
    }
   ],
   "source": [
    "type(history)"
   ]
  },
  {
   "cell_type": "code",
   "execution_count": null,
   "metadata": {},
   "outputs": [],
   "source": [
    "def compute_metrics():\n",
    "    pass"
   ]
  },
  {
   "cell_type": "code",
   "execution_count": 19,
   "metadata": {},
   "outputs": [],
   "source": [
    "def plot_metrics(history):\n",
    "    colors = plt.rcParams['axes.prop_cycle'].by_key()['color']\n",
    "    metrics = ['accuracy']\n",
    "    fig, ax = plt.subplots(2, 2, figsize=(20,8))\n",
    "    for n, metric in enumerate(metrics):\n",
    "        name = metric.replace(\"_\",\" \").capitalize()\n",
    "        if metric == 'loss':\n",
    "          pos = (0, 0)\n",
    "        elif metric == 'accuracy':\n",
    "          pos = (0, 1)\n",
    "        elif metric == 'precision':\n",
    "          pos = (1, 0)\n",
    "        elif metric == 'recall':\n",
    "          pos = (1, 1)\n",
    "        ax[pos[0], pos[1]].plot(history.epoch, history.history[metric], color=colors[0], label='Train')\n",
    "        ax[pos[0], pos[1]].plot(history.epoch, history.history['val_'+metric],\n",
    "                color=colors[0], linestyle=\"--\", label='Val')\n",
    "        ax[pos[0], pos[1]].set_xlabel('Epoch')\n",
    "        ax[pos[0], pos[1]].set_ylabel(name)\n",
    "        ax[pos[0], pos[1]].set_ylim([0,1])\n",
    "\n",
    "    ax[pos[0], pos[1]].legend()\n",
    "\n",
    "def plot_roc(name, labels, predictions, **kwargs):\n",
    "    fp, tp, _ = roc_curve(labels, predictions)\n",
    "    plt.plot(100*fp, 100*tp, label=name, linewidth=2, **kwargs)\n",
    "    plt.xlabel('False positives [%]')\n",
    "    plt.ylabel('True positives [%]')\n",
    "    plt.xlim([-0.5,20])\n",
    "    plt.ylim([80,100.5])\n",
    "    plt.grid(True)\n",
    "    ax = plt.gca()\n",
    "    ax.set_aspect('equal')"
   ]
  }
 ],
 "metadata": {
  "kernelspec": {
   "display_name": "Python 3 (ipykernel)",
   "language": "python",
   "name": "python3"
  },
  "language_info": {
   "codemirror_mode": {
    "name": "ipython",
    "version": 3
   },
   "file_extension": ".py",
   "mimetype": "text/x-python",
   "name": "python",
   "nbconvert_exporter": "python",
   "pygments_lexer": "ipython3",
   "version": "3.8.12"
  }
 },
 "nbformat": 4,
 "nbformat_minor": 2
}
