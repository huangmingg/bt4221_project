{
 "cells": [
  {
   "cell_type": "code",
   "execution_count": 1,
   "metadata": {},
   "outputs": [
    {
     "data": {
      "text/html": [
       "<style>.container { width:100% !important; }</style>"
      ],
      "text/plain": [
       "<IPython.core.display.HTML object>"
      ]
     },
     "metadata": {},
     "output_type": "display_data"
    }
   ],
   "source": [
    "from IPython.core.display import display, HTML\n",
    "display(HTML(\"<style>.container { width:100% !important; }</style>\"))"
   ]
  },
  {
   "cell_type": "code",
   "execution_count": 2,
   "metadata": {},
   "outputs": [
    {
     "name": "stdout",
     "output_type": "stream",
     "text": [
      "Num GPUs Available 1\n"
     ]
    }
   ],
   "source": [
    "import tensorflow as tf\n",
    "print(\"Num GPUs Available\", len(tf.config.experimental.list_physical_devices('GPU')))"
   ]
  },
  {
   "cell_type": "code",
   "execution_count": 4,
   "metadata": {},
   "outputs": [],
   "source": [
    "from sklearn.metrics import roc_auc_score, average_precision_score, roc_curve\n",
    "from sklearn.model_selection import train_test_split\n",
    "from sklearn.preprocessing import StandardScaler\n",
    "from sklearn.preprocessing import OneHotEncoder\n",
    "from tensorflow.keras.metrics import TruePositives, FalsePositives, TrueNegatives, FalseNegatives, BinaryAccuracy, Precision, Recall, AUC\n",
    "from tensorflow.keras.models import Model, Sequential\n",
    "from tensorflow.keras.losses import SparseCategoricalCrossentropy, CategoricalCrossentropy\n",
    "from tensorflow.keras.layers import Input, Dense, Conv2D, MaxPooling2D, Flatten, Dropout, Activation, SpatialDropout2D, BatchNormalization\n",
    "from tensorflow.keras.optimizers import Adam, SGD\n",
    "from tensorflow.keras.preprocessing.image import ImageDataGenerator\n",
    "from typing import Tuple\n",
    "import matplotlib.pyplot as plt\n",
    "import numpy as np\n",
    "import os\n",
    "import pandas as pd\n",
    "import seaborn as sns"
   ]
  },
  {
   "cell_type": "code",
   "execution_count": null,
   "metadata": {},
   "outputs": [],
   "source": [
    "from preprocessing import train_val_test_split, parse_input_file"
   ]
  },
  {
   "cell_type": "code",
   "execution_count": 174,
   "metadata": {},
   "outputs": [],
   "source": [
    "# directory to image folder - change this accordingly\n",
    "DTIF = os.path.join('data', 'img')\n",
    "DF_FILEPATH = 'list_category_img.txt'"
   ]
  },
  {
   "cell_type": "code",
   "execution_count": 175,
   "metadata": {},
   "outputs": [],
   "source": [
    "df = parse_input_file(DF_FILEPATH, DTIF)\n",
    "train_df, val_df, test_df = train_val_test_split(df)"
   ]
  },
  {
   "cell_type": "code",
   "execution_count": 8,
   "metadata": {},
   "outputs": [],
   "source": [
    "train_datagen = ImageDataGenerator()\n",
    "val_datagen = ImageDataGenerator()\n",
    "test_datagen = ImageDataGenerator()"
   ]
  },
  {
   "cell_type": "code",
   "execution_count": 13,
   "metadata": {},
   "outputs": [
    {
     "name": "stdout",
     "output_type": "stream",
     "text": [
      "Found 24362 validated image filenames belonging to 26 classes.\n"
     ]
    }
   ],
   "source": [
    "train_gen = train_datagen.flow_from_dataframe(\n",
    "    cat_df,\n",
    "    weight_col=None, target_size=(301, 301), color_mode='rgb',\n",
    "    classes=None, \n",
    "    batch_size=8,\n",
    "    class_mode='categorical', \n",
    "    shuffle=True\n",
    ")"
   ]
  },
  {
   "cell_type": "code",
   "execution_count": 10,
   "metadata": {},
   "outputs": [],
   "source": [
    "def base_model() -> Sequential:\n",
    "    model = Sequential()\n",
    "    model.add(Input((301, 301, 3)))    \n",
    "    # Conv2D Layer\n",
    "    model.add(Conv2D(filters=64, kernel_size=5, padding='same'))\n",
    "    model.add(Activation('relu'))    \n",
    "    model.add(SpatialDropout2D(0.5))\n",
    "\n",
    "    # BatchNormalization\n",
    "    model.add(BatchNormalization())\n",
    "    model.add(Activation('relu'))    \n",
    "\n",
    "    # Max Pooling\n",
    "    model.add(MaxPooling2D(pool_size=(5, 5), strides = 5))\n",
    "\n",
    "    model.add(Flatten())\n",
    "\n",
    "    model.add(Dense(32, activation='relu'))\n",
    "    model.add(Dropout(0.4))\n",
    "\n",
    "    model.add(Dense(26, activation='softmax'))\n",
    "    \n",
    "    return model  "
   ]
  },
  {
   "cell_type": "code",
   "execution_count": 11,
   "metadata": {},
   "outputs": [
    {
     "name": "stdout",
     "output_type": "stream",
     "text": [
      "Model: \"sequential\"\n",
      "_________________________________________________________________\n",
      "Layer (type)                 Output Shape              Param #   \n",
      "=================================================================\n",
      "conv2d (Conv2D)              (None, 301, 301, 64)      4864      \n",
      "_________________________________________________________________\n",
      "activation (Activation)      (None, 301, 301, 64)      0         \n",
      "_________________________________________________________________\n",
      "spatial_dropout2d (SpatialDr (None, 301, 301, 64)      0         \n",
      "_________________________________________________________________\n",
      "batch_normalization (BatchNo (None, 301, 301, 64)      256       \n",
      "_________________________________________________________________\n",
      "activation_1 (Activation)    (None, 301, 301, 64)      0         \n",
      "_________________________________________________________________\n",
      "max_pooling2d (MaxPooling2D) (None, 60, 60, 64)        0         \n",
      "_________________________________________________________________\n",
      "flatten (Flatten)            (None, 230400)            0         \n",
      "_________________________________________________________________\n",
      "dense (Dense)                (None, 32)                7372832   \n",
      "_________________________________________________________________\n",
      "dropout (Dropout)            (None, 32)                0         \n",
      "_________________________________________________________________\n",
      "dense_1 (Dense)              (None, 26)                858       \n",
      "=================================================================\n",
      "Total params: 7,378,810\n",
      "Trainable params: 7,378,682\n",
      "Non-trainable params: 128\n",
      "_________________________________________________________________\n"
     ]
    }
   ],
   "source": [
    "METRICS = [\n",
    "      BinaryAccuracy(name='accuracy'),\n",
    "      Precision(name='precision'),\n",
    "      Recall(name='recall'),\n",
    "      AUC(name='auc'),\n",
    "      AUC(name='prc', curve='PR')\n",
    "]\n",
    "\n",
    "model = base_model()\n",
    "model.compile(optimizer='adam', loss=CategoricalCrossentropy(), metrics=METRICS)\n",
    "model.summary()"
   ]
  },
  {
   "cell_type": "code",
   "execution_count": 14,
   "metadata": {},
   "outputs": [
    {
     "name": "stdout",
     "output_type": "stream",
     "text": [
      "Epoch 1/10\n",
      "3046/3046 [==============================] - 376s 123ms/step - loss: 2.7648 - accuracy: 0.9615\n",
      "Epoch 2/10\n",
      "3046/3046 [==============================] - 284s 93ms/step - loss: 2.5133 - accuracy: 0.9615s - loss: 2.5\n",
      "Epoch 3/10\n",
      "3046/3046 [==============================] - 295s 97ms/step - loss: 2.5125 - accuracy: 0.9615\n",
      "Epoch 4/10\n",
      "3046/3046 [==============================] - 295s 97ms/step - loss: 2.5007 - accuracy: 0.9615\n",
      "Epoch 5/10\n",
      "3046/3046 [==============================] - 295s 97ms/step - loss: 2.5141 - accuracy: 0.9615\n",
      "Epoch 6/10\n",
      "3046/3046 [==============================] - 295s 97ms/step - loss: 2.5086 - accuracy: 0.9615\n",
      "Epoch 7/10\n",
      "3046/3046 [==============================] - 295s 97ms/step - loss: 2.5013 - accuracy: 0.9615\n",
      "Epoch 8/10\n",
      "3046/3046 [==============================] - 295s 97ms/step - loss: 2.4999 - accuracy: 0.9615\n",
      "Epoch 9/10\n",
      "3046/3046 [==============================] - 295s 97ms/step - loss: 2.5000 - accuracy: 0.9615\n",
      "Epoch 10/10\n",
      "3046/3046 [==============================] - 293s 96ms/step - loss: 2.5000 - accuracy: 0.9615\n"
     ]
    }
   ],
   "source": [
    "epochs=10\n",
    "history = model.fit(\n",
    "    train_gen,\n",
    "    epochs=epochs\n",
    ")"
   ]
  },
  {
   "cell_type": "code",
   "execution_count": 29,
   "metadata": {},
   "outputs": [],
   "source": [
    "from tensorflow.keras.callbacks import History"
   ]
  },
  {
   "cell_type": "code",
   "execution_count": 28,
   "metadata": {},
   "outputs": [
    {
     "data": {
      "text/plain": [
       "keras.callbacks.History"
      ]
     },
     "execution_count": 28,
     "metadata": {},
     "output_type": "execute_result"
    }
   ],
   "source": [
    "type(history)"
   ]
  },
  {
   "cell_type": "code",
   "execution_count": null,
   "metadata": {},
   "outputs": [],
   "source": [
    "def compute_metrics():\n",
    "    pass"
   ]
  },
  {
   "cell_type": "code",
   "execution_count": 19,
   "metadata": {},
   "outputs": [],
   "source": [
    "def plot_metrics(history):\n",
    "    colors = plt.rcParams['axes.prop_cycle'].by_key()['color']\n",
    "    metrics = ['accuracy']\n",
    "    fig, ax = plt.subplots(2, 2, figsize=(20,8))\n",
    "    for n, metric in enumerate(metrics):\n",
    "        name = metric.replace(\"_\",\" \").capitalize()\n",
    "        if metric == 'loss':\n",
    "          pos = (0, 0)\n",
    "        elif metric == 'accuracy':\n",
    "          pos = (0, 1)\n",
    "        elif metric == 'precision':\n",
    "          pos = (1, 0)\n",
    "        elif metric == 'recall':\n",
    "          pos = (1, 1)\n",
    "        ax[pos[0], pos[1]].plot(history.epoch, history.history[metric], color=colors[0], label='Train')\n",
    "        ax[pos[0], pos[1]].plot(history.epoch, history.history['val_'+metric],\n",
    "                color=colors[0], linestyle=\"--\", label='Val')\n",
    "        ax[pos[0], pos[1]].set_xlabel('Epoch')\n",
    "        ax[pos[0], pos[1]].set_ylabel(name)\n",
    "        ax[pos[0], pos[1]].set_ylim([0,1])\n",
    "\n",
    "    ax[pos[0], pos[1]].legend()\n",
    "\n",
    "def plot_roc(name, labels, predictions, **kwargs):\n",
    "    fp, tp, _ = roc_curve(labels, predictions)\n",
    "    plt.plot(100*fp, 100*tp, label=name, linewidth=2, **kwargs)\n",
    "    plt.xlabel('False positives [%]')\n",
    "    plt.ylabel('True positives [%]')\n",
    "    plt.xlim([-0.5,20])\n",
    "    plt.ylim([80,100.5])\n",
    "    plt.grid(True)\n",
    "    ax = plt.gca()\n",
    "    ax.set_aspect('equal')"
   ]
  }
 ],
 "metadata": {
  "kernelspec": {
   "display_name": "Python 3 (ipykernel)",
   "language": "python",
   "name": "python3"
  },
  "language_info": {
   "codemirror_mode": {
    "name": "ipython",
    "version": 3
   },
   "file_extension": ".py",
   "mimetype": "text/x-python",
   "name": "python",
   "nbconvert_exporter": "python",
   "pygments_lexer": "ipython3",
   "version": "3.8.12"
  }
 },
 "nbformat": 4,
 "nbformat_minor": 2
}
